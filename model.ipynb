{
 "cells": [
  {
   "cell_type": "markdown",
   "id": "d6b0e096",
   "metadata": {},
   "source": [
    "## Deep Neural Network"
   ]
  },
  {
   "cell_type": "markdown",
   "id": "544d897b",
   "metadata": {},
   "source": [
    "Imports"
   ]
  },
  {
   "cell_type": "code",
   "execution_count": 197,
   "id": "bc7b3317",
   "metadata": {},
   "outputs": [],
   "source": [
    "import os\n",
    "import keras\n",
    "import numpy as np\n",
    "import pandas as pd\n",
    "import tensorflow as tf\n",
    "import matplotlib.pyplot as plt\n",
    "from sklearn.preprocessing import LabelEncoder\n",
    "from sklearn.model_selection import GroupShuffleSplit"
   ]
  },
  {
   "cell_type": "markdown",
   "id": "d39626f1",
   "metadata": {},
   "source": [
    "Load in the data"
   ]
  },
  {
   "cell_type": "code",
   "execution_count": 198,
   "id": "32d95a6e",
   "metadata": {},
   "outputs": [],
   "source": [
    "data_movies = pd.read_csv(\"data/movies.csv\")\n",
    "data_ratings = pd.read_csv(\"data/ratings.csv\")"
   ]
  },
  {
   "cell_type": "markdown",
   "id": "ec8cab79",
   "metadata": {},
   "source": [
    "Transform the data"
   ]
  },
  {
   "cell_type": "code",
   "execution_count": 199,
   "id": "9ee9ca7e",
   "metadata": {},
   "outputs": [],
   "source": [
    "merged_dataset = pd.merge(data_movies,data_ratings, how='inner', on='movieId')\n",
    "\n",
    "refined_dataset = merged_dataset.groupby(by=['userId','title'], as_index=False).agg({\"rating\":\"mean\"})\n",
    "\n",
    "# Encode the userid and movie title to prepare for DNN\n",
    "user_enc = LabelEncoder()\n",
    "refined_dataset['user'] = user_enc.fit_transform(refined_dataset['userId'].to_numpy())\n",
    "item_enc = LabelEncoder()\n",
    "refined_dataset['movie'] = item_enc.fit_transform(refined_dataset['title'].to_numpy())\n",
    "refined_dataset['rating'] = refined_dataset['rating'].values.astype(np.float32)\n",
    "\n"
   ]
  },
  {
   "cell_type": "code",
   "execution_count": 200,
   "id": "b7b1b907",
   "metadata": {},
   "outputs": [],
   "source": [
    "n_users = refined_dataset['user'].nunique()\n",
    "n_movies = refined_dataset['movie'].nunique()\n",
    "min_rating = min(refined_dataset['rating'])\n",
    "max_rating = max(refined_dataset['rating'])"
   ]
  },
  {
   "cell_type": "markdown",
   "id": "7f3db822",
   "metadata": {},
   "source": [
    "Define X and Y data"
   ]
  },
  {
   "cell_type": "code",
   "execution_count": 201,
   "id": "170a3d07",
   "metadata": {},
   "outputs": [],
   "source": [
    "X = refined_dataset[['user', 'movie']].values\n",
    "y = refined_dataset['rating'].values\n",
    "\n",
    "n_factors = 100\n",
    "\n",
    "\n",
    "splitter = GroupShuffleSplit(n_splits=1, test_size=0.1, random_state=50)\n",
    "for train_idx, test_idx in splitter.split(X, y, groups=refined_dataset['userId']):\n",
    "    X_train, X_test = X[train_idx], X[test_idx]\n",
    "    y_train, y_test = y[train_idx], y[test_idx]\n",
    "\n",
    "X_train_array = [X_train[:, 0], X_train[:, 1]]  \n",
    "X_test_array = [X_test[:, 0], X_test[:, 1]]"
   ]
  },
  {
   "cell_type": "markdown",
   "id": "2b3dd29f",
   "metadata": {},
   "source": [
    "### Define the layers and the model"
   ]
  },
  {
   "cell_type": "code",
   "execution_count": 202,
   "id": "ab62b7e3",
   "metadata": {},
   "outputs": [
    {
     "data": {
      "text/html": [
       "<pre style=\"white-space:pre;overflow-x:auto;line-height:normal;font-family:Menlo,'DejaVu Sans Mono',consolas,'Courier New',monospace\"><span style=\"font-weight: bold\">Model: \"functional_23\"</span>\n",
       "</pre>\n"
      ],
      "text/plain": [
       "\u001b[1mModel: \"functional_23\"\u001b[0m\n"
      ]
     },
     "metadata": {},
     "output_type": "display_data"
    },
    {
     "data": {
      "text/html": [
       "<pre style=\"white-space:pre;overflow-x:auto;line-height:normal;font-family:Menlo,'DejaVu Sans Mono',consolas,'Courier New',monospace\">┏━━━━━━━━━━━━━━━━━━━━━┳━━━━━━━━━━━━━━━━━━━┳━━━━━━━━━━━━┳━━━━━━━━━━━━━━━━━━━┓\n",
       "┃<span style=\"font-weight: bold\"> Layer (type)        </span>┃<span style=\"font-weight: bold\"> Output Shape      </span>┃<span style=\"font-weight: bold\">    Param # </span>┃<span style=\"font-weight: bold\"> Connected to      </span>┃\n",
       "┡━━━━━━━━━━━━━━━━━━━━━╇━━━━━━━━━━━━━━━━━━━╇━━━━━━━━━━━━╇━━━━━━━━━━━━━━━━━━━┩\n",
       "│ input_layer_46      │ (<span style=\"color: #00d7ff; text-decoration-color: #00d7ff\">None</span>, <span style=\"color: #00af00; text-decoration-color: #00af00\">1</span>)         │          <span style=\"color: #00af00; text-decoration-color: #00af00\">0</span> │ -                 │\n",
       "│ (<span style=\"color: #0087ff; text-decoration-color: #0087ff\">InputLayer</span>)        │                   │            │                   │\n",
       "├─────────────────────┼───────────────────┼────────────┼───────────────────┤\n",
       "│ input_layer_47      │ (<span style=\"color: #00d7ff; text-decoration-color: #00d7ff\">None</span>, <span style=\"color: #00af00; text-decoration-color: #00af00\">1</span>)         │          <span style=\"color: #00af00; text-decoration-color: #00af00\">0</span> │ -                 │\n",
       "│ (<span style=\"color: #0087ff; text-decoration-color: #0087ff\">InputLayer</span>)        │                   │            │                   │\n",
       "├─────────────────────┼───────────────────┼────────────┼───────────────────┤\n",
       "│ embedding_46        │ (<span style=\"color: #00d7ff; text-decoration-color: #00d7ff\">None</span>, <span style=\"color: #00af00; text-decoration-color: #00af00\">1</span>, <span style=\"color: #00af00; text-decoration-color: #00af00\">100</span>)    │     <span style=\"color: #00af00; text-decoration-color: #00af00\">61,000</span> │ input_layer_46[<span style=\"color: #00af00; text-decoration-color: #00af00\">0</span>… │\n",
       "│ (<span style=\"color: #0087ff; text-decoration-color: #0087ff\">Embedding</span>)         │                   │            │                   │\n",
       "├─────────────────────┼───────────────────┼────────────┼───────────────────┤\n",
       "│ embedding_47        │ (<span style=\"color: #00d7ff; text-decoration-color: #00d7ff\">None</span>, <span style=\"color: #00af00; text-decoration-color: #00af00\">1</span>, <span style=\"color: #00af00; text-decoration-color: #00af00\">100</span>)    │    <span style=\"color: #00af00; text-decoration-color: #00af00\">971,900</span> │ input_layer_47[<span style=\"color: #00af00; text-decoration-color: #00af00\">0</span>… │\n",
       "│ (<span style=\"color: #0087ff; text-decoration-color: #0087ff\">Embedding</span>)         │                   │            │                   │\n",
       "├─────────────────────┼───────────────────┼────────────┼───────────────────┤\n",
       "│ reshape_46          │ (<span style=\"color: #00d7ff; text-decoration-color: #00d7ff\">None</span>, <span style=\"color: #00af00; text-decoration-color: #00af00\">100</span>)       │          <span style=\"color: #00af00; text-decoration-color: #00af00\">0</span> │ embedding_46[<span style=\"color: #00af00; text-decoration-color: #00af00\">0</span>][<span style=\"color: #00af00; text-decoration-color: #00af00\">…</span> │\n",
       "│ (<span style=\"color: #0087ff; text-decoration-color: #0087ff\">Reshape</span>)           │                   │            │                   │\n",
       "├─────────────────────┼───────────────────┼────────────┼───────────────────┤\n",
       "│ reshape_47          │ (<span style=\"color: #00d7ff; text-decoration-color: #00d7ff\">None</span>, <span style=\"color: #00af00; text-decoration-color: #00af00\">100</span>)       │          <span style=\"color: #00af00; text-decoration-color: #00af00\">0</span> │ embedding_47[<span style=\"color: #00af00; text-decoration-color: #00af00\">0</span>][<span style=\"color: #00af00; text-decoration-color: #00af00\">…</span> │\n",
       "│ (<span style=\"color: #0087ff; text-decoration-color: #0087ff\">Reshape</span>)           │                   │            │                   │\n",
       "├─────────────────────┼───────────────────┼────────────┼───────────────────┤\n",
       "│ concatenate_23      │ (<span style=\"color: #00d7ff; text-decoration-color: #00d7ff\">None</span>, <span style=\"color: #00af00; text-decoration-color: #00af00\">200</span>)       │          <span style=\"color: #00af00; text-decoration-color: #00af00\">0</span> │ reshape_46[<span style=\"color: #00af00; text-decoration-color: #00af00\">0</span>][<span style=\"color: #00af00; text-decoration-color: #00af00\">0</span>], │\n",
       "│ (<span style=\"color: #0087ff; text-decoration-color: #0087ff\">Concatenate</span>)       │                   │            │ reshape_47[<span style=\"color: #00af00; text-decoration-color: #00af00\">0</span>][<span style=\"color: #00af00; text-decoration-color: #00af00\">0</span>]  │\n",
       "├─────────────────────┼───────────────────┼────────────┼───────────────────┤\n",
       "│ dropout_69          │ (<span style=\"color: #00d7ff; text-decoration-color: #00d7ff\">None</span>, <span style=\"color: #00af00; text-decoration-color: #00af00\">200</span>)       │          <span style=\"color: #00af00; text-decoration-color: #00af00\">0</span> │ concatenate_23[<span style=\"color: #00af00; text-decoration-color: #00af00\">0</span>… │\n",
       "│ (<span style=\"color: #0087ff; text-decoration-color: #0087ff\">Dropout</span>)           │                   │            │                   │\n",
       "├─────────────────────┼───────────────────┼────────────┼───────────────────┤\n",
       "│ dense_69 (<span style=\"color: #0087ff; text-decoration-color: #0087ff\">Dense</span>)    │ (<span style=\"color: #00d7ff; text-decoration-color: #00d7ff\">None</span>, <span style=\"color: #00af00; text-decoration-color: #00af00\">16</span>)        │      <span style=\"color: #00af00; text-decoration-color: #00af00\">3,216</span> │ dropout_69[<span style=\"color: #00af00; text-decoration-color: #00af00\">0</span>][<span style=\"color: #00af00; text-decoration-color: #00af00\">0</span>]  │\n",
       "├─────────────────────┼───────────────────┼────────────┼───────────────────┤\n",
       "│ activation_69       │ (<span style=\"color: #00d7ff; text-decoration-color: #00d7ff\">None</span>, <span style=\"color: #00af00; text-decoration-color: #00af00\">16</span>)        │          <span style=\"color: #00af00; text-decoration-color: #00af00\">0</span> │ dense_69[<span style=\"color: #00af00; text-decoration-color: #00af00\">0</span>][<span style=\"color: #00af00; text-decoration-color: #00af00\">0</span>]    │\n",
       "│ (<span style=\"color: #0087ff; text-decoration-color: #0087ff\">Activation</span>)        │                   │            │                   │\n",
       "├─────────────────────┼───────────────────┼────────────┼───────────────────┤\n",
       "│ dropout_70          │ (<span style=\"color: #00d7ff; text-decoration-color: #00d7ff\">None</span>, <span style=\"color: #00af00; text-decoration-color: #00af00\">16</span>)        │          <span style=\"color: #00af00; text-decoration-color: #00af00\">0</span> │ activation_69[<span style=\"color: #00af00; text-decoration-color: #00af00\">0</span>]… │\n",
       "│ (<span style=\"color: #0087ff; text-decoration-color: #0087ff\">Dropout</span>)           │                   │            │                   │\n",
       "├─────────────────────┼───────────────────┼────────────┼───────────────────┤\n",
       "│ dense_70 (<span style=\"color: #0087ff; text-decoration-color: #0087ff\">Dense</span>)    │ (<span style=\"color: #00d7ff; text-decoration-color: #00d7ff\">None</span>, <span style=\"color: #00af00; text-decoration-color: #00af00\">16</span>)        │        <span style=\"color: #00af00; text-decoration-color: #00af00\">272</span> │ dropout_70[<span style=\"color: #00af00; text-decoration-color: #00af00\">0</span>][<span style=\"color: #00af00; text-decoration-color: #00af00\">0</span>]  │\n",
       "├─────────────────────┼───────────────────┼────────────┼───────────────────┤\n",
       "│ activation_70       │ (<span style=\"color: #00d7ff; text-decoration-color: #00d7ff\">None</span>, <span style=\"color: #00af00; text-decoration-color: #00af00\">16</span>)        │          <span style=\"color: #00af00; text-decoration-color: #00af00\">0</span> │ dense_70[<span style=\"color: #00af00; text-decoration-color: #00af00\">0</span>][<span style=\"color: #00af00; text-decoration-color: #00af00\">0</span>]    │\n",
       "│ (<span style=\"color: #0087ff; text-decoration-color: #0087ff\">Activation</span>)        │                   │            │                   │\n",
       "├─────────────────────┼───────────────────┼────────────┼───────────────────┤\n",
       "│ dropout_71          │ (<span style=\"color: #00d7ff; text-decoration-color: #00d7ff\">None</span>, <span style=\"color: #00af00; text-decoration-color: #00af00\">16</span>)        │          <span style=\"color: #00af00; text-decoration-color: #00af00\">0</span> │ activation_70[<span style=\"color: #00af00; text-decoration-color: #00af00\">0</span>]… │\n",
       "│ (<span style=\"color: #0087ff; text-decoration-color: #0087ff\">Dropout</span>)           │                   │            │                   │\n",
       "├─────────────────────┼───────────────────┼────────────┼───────────────────┤\n",
       "│ dense_71 (<span style=\"color: #0087ff; text-decoration-color: #0087ff\">Dense</span>)    │ (<span style=\"color: #00d7ff; text-decoration-color: #00d7ff\">None</span>, <span style=\"color: #00af00; text-decoration-color: #00af00\">1</span>)         │         <span style=\"color: #00af00; text-decoration-color: #00af00\">17</span> │ dropout_71[<span style=\"color: #00af00; text-decoration-color: #00af00\">0</span>][<span style=\"color: #00af00; text-decoration-color: #00af00\">0</span>]  │\n",
       "├─────────────────────┼───────────────────┼────────────┼───────────────────┤\n",
       "│ activation_71       │ (<span style=\"color: #00d7ff; text-decoration-color: #00d7ff\">None</span>, <span style=\"color: #00af00; text-decoration-color: #00af00\">1</span>)         │          <span style=\"color: #00af00; text-decoration-color: #00af00\">0</span> │ dense_71[<span style=\"color: #00af00; text-decoration-color: #00af00\">0</span>][<span style=\"color: #00af00; text-decoration-color: #00af00\">0</span>]    │\n",
       "│ (<span style=\"color: #0087ff; text-decoration-color: #0087ff\">Activation</span>)        │                   │            │                   │\n",
       "└─────────────────────┴───────────────────┴────────────┴───────────────────┘\n",
       "</pre>\n"
      ],
      "text/plain": [
       "┏━━━━━━━━━━━━━━━━━━━━━┳━━━━━━━━━━━━━━━━━━━┳━━━━━━━━━━━━┳━━━━━━━━━━━━━━━━━━━┓\n",
       "┃\u001b[1m \u001b[0m\u001b[1mLayer (type)       \u001b[0m\u001b[1m \u001b[0m┃\u001b[1m \u001b[0m\u001b[1mOutput Shape     \u001b[0m\u001b[1m \u001b[0m┃\u001b[1m \u001b[0m\u001b[1m   Param #\u001b[0m\u001b[1m \u001b[0m┃\u001b[1m \u001b[0m\u001b[1mConnected to     \u001b[0m\u001b[1m \u001b[0m┃\n",
       "┡━━━━━━━━━━━━━━━━━━━━━╇━━━━━━━━━━━━━━━━━━━╇━━━━━━━━━━━━╇━━━━━━━━━━━━━━━━━━━┩\n",
       "│ input_layer_46      │ (\u001b[38;5;45mNone\u001b[0m, \u001b[38;5;34m1\u001b[0m)         │          \u001b[38;5;34m0\u001b[0m │ -                 │\n",
       "│ (\u001b[38;5;33mInputLayer\u001b[0m)        │                   │            │                   │\n",
       "├─────────────────────┼───────────────────┼────────────┼───────────────────┤\n",
       "│ input_layer_47      │ (\u001b[38;5;45mNone\u001b[0m, \u001b[38;5;34m1\u001b[0m)         │          \u001b[38;5;34m0\u001b[0m │ -                 │\n",
       "│ (\u001b[38;5;33mInputLayer\u001b[0m)        │                   │            │                   │\n",
       "├─────────────────────┼───────────────────┼────────────┼───────────────────┤\n",
       "│ embedding_46        │ (\u001b[38;5;45mNone\u001b[0m, \u001b[38;5;34m1\u001b[0m, \u001b[38;5;34m100\u001b[0m)    │     \u001b[38;5;34m61,000\u001b[0m │ input_layer_46[\u001b[38;5;34m0\u001b[0m… │\n",
       "│ (\u001b[38;5;33mEmbedding\u001b[0m)         │                   │            │                   │\n",
       "├─────────────────────┼───────────────────┼────────────┼───────────────────┤\n",
       "│ embedding_47        │ (\u001b[38;5;45mNone\u001b[0m, \u001b[38;5;34m1\u001b[0m, \u001b[38;5;34m100\u001b[0m)    │    \u001b[38;5;34m971,900\u001b[0m │ input_layer_47[\u001b[38;5;34m0\u001b[0m… │\n",
       "│ (\u001b[38;5;33mEmbedding\u001b[0m)         │                   │            │                   │\n",
       "├─────────────────────┼───────────────────┼────────────┼───────────────────┤\n",
       "│ reshape_46          │ (\u001b[38;5;45mNone\u001b[0m, \u001b[38;5;34m100\u001b[0m)       │          \u001b[38;5;34m0\u001b[0m │ embedding_46[\u001b[38;5;34m0\u001b[0m][\u001b[38;5;34m…\u001b[0m │\n",
       "│ (\u001b[38;5;33mReshape\u001b[0m)           │                   │            │                   │\n",
       "├─────────────────────┼───────────────────┼────────────┼───────────────────┤\n",
       "│ reshape_47          │ (\u001b[38;5;45mNone\u001b[0m, \u001b[38;5;34m100\u001b[0m)       │          \u001b[38;5;34m0\u001b[0m │ embedding_47[\u001b[38;5;34m0\u001b[0m][\u001b[38;5;34m…\u001b[0m │\n",
       "│ (\u001b[38;5;33mReshape\u001b[0m)           │                   │            │                   │\n",
       "├─────────────────────┼───────────────────┼────────────┼───────────────────┤\n",
       "│ concatenate_23      │ (\u001b[38;5;45mNone\u001b[0m, \u001b[38;5;34m200\u001b[0m)       │          \u001b[38;5;34m0\u001b[0m │ reshape_46[\u001b[38;5;34m0\u001b[0m][\u001b[38;5;34m0\u001b[0m], │\n",
       "│ (\u001b[38;5;33mConcatenate\u001b[0m)       │                   │            │ reshape_47[\u001b[38;5;34m0\u001b[0m][\u001b[38;5;34m0\u001b[0m]  │\n",
       "├─────────────────────┼───────────────────┼────────────┼───────────────────┤\n",
       "│ dropout_69          │ (\u001b[38;5;45mNone\u001b[0m, \u001b[38;5;34m200\u001b[0m)       │          \u001b[38;5;34m0\u001b[0m │ concatenate_23[\u001b[38;5;34m0\u001b[0m… │\n",
       "│ (\u001b[38;5;33mDropout\u001b[0m)           │                   │            │                   │\n",
       "├─────────────────────┼───────────────────┼────────────┼───────────────────┤\n",
       "│ dense_69 (\u001b[38;5;33mDense\u001b[0m)    │ (\u001b[38;5;45mNone\u001b[0m, \u001b[38;5;34m16\u001b[0m)        │      \u001b[38;5;34m3,216\u001b[0m │ dropout_69[\u001b[38;5;34m0\u001b[0m][\u001b[38;5;34m0\u001b[0m]  │\n",
       "├─────────────────────┼───────────────────┼────────────┼───────────────────┤\n",
       "│ activation_69       │ (\u001b[38;5;45mNone\u001b[0m, \u001b[38;5;34m16\u001b[0m)        │          \u001b[38;5;34m0\u001b[0m │ dense_69[\u001b[38;5;34m0\u001b[0m][\u001b[38;5;34m0\u001b[0m]    │\n",
       "│ (\u001b[38;5;33mActivation\u001b[0m)        │                   │            │                   │\n",
       "├─────────────────────┼───────────────────┼────────────┼───────────────────┤\n",
       "│ dropout_70          │ (\u001b[38;5;45mNone\u001b[0m, \u001b[38;5;34m16\u001b[0m)        │          \u001b[38;5;34m0\u001b[0m │ activation_69[\u001b[38;5;34m0\u001b[0m]… │\n",
       "│ (\u001b[38;5;33mDropout\u001b[0m)           │                   │            │                   │\n",
       "├─────────────────────┼───────────────────┼────────────┼───────────────────┤\n",
       "│ dense_70 (\u001b[38;5;33mDense\u001b[0m)    │ (\u001b[38;5;45mNone\u001b[0m, \u001b[38;5;34m16\u001b[0m)        │        \u001b[38;5;34m272\u001b[0m │ dropout_70[\u001b[38;5;34m0\u001b[0m][\u001b[38;5;34m0\u001b[0m]  │\n",
       "├─────────────────────┼───────────────────┼────────────┼───────────────────┤\n",
       "│ activation_70       │ (\u001b[38;5;45mNone\u001b[0m, \u001b[38;5;34m16\u001b[0m)        │          \u001b[38;5;34m0\u001b[0m │ dense_70[\u001b[38;5;34m0\u001b[0m][\u001b[38;5;34m0\u001b[0m]    │\n",
       "│ (\u001b[38;5;33mActivation\u001b[0m)        │                   │            │                   │\n",
       "├─────────────────────┼───────────────────┼────────────┼───────────────────┤\n",
       "│ dropout_71          │ (\u001b[38;5;45mNone\u001b[0m, \u001b[38;5;34m16\u001b[0m)        │          \u001b[38;5;34m0\u001b[0m │ activation_70[\u001b[38;5;34m0\u001b[0m]… │\n",
       "│ (\u001b[38;5;33mDropout\u001b[0m)           │                   │            │                   │\n",
       "├─────────────────────┼───────────────────┼────────────┼───────────────────┤\n",
       "│ dense_71 (\u001b[38;5;33mDense\u001b[0m)    │ (\u001b[38;5;45mNone\u001b[0m, \u001b[38;5;34m1\u001b[0m)         │         \u001b[38;5;34m17\u001b[0m │ dropout_71[\u001b[38;5;34m0\u001b[0m][\u001b[38;5;34m0\u001b[0m]  │\n",
       "├─────────────────────┼───────────────────┼────────────┼───────────────────┤\n",
       "│ activation_71       │ (\u001b[38;5;45mNone\u001b[0m, \u001b[38;5;34m1\u001b[0m)         │          \u001b[38;5;34m0\u001b[0m │ dense_71[\u001b[38;5;34m0\u001b[0m][\u001b[38;5;34m0\u001b[0m]    │\n",
       "│ (\u001b[38;5;33mActivation\u001b[0m)        │                   │            │                   │\n",
       "└─────────────────────┴───────────────────┴────────────┴───────────────────┘\n"
      ]
     },
     "metadata": {},
     "output_type": "display_data"
    },
    {
     "data": {
      "text/html": [
       "<pre style=\"white-space:pre;overflow-x:auto;line-height:normal;font-family:Menlo,'DejaVu Sans Mono',consolas,'Courier New',monospace\"><span style=\"font-weight: bold\"> Total params: </span><span style=\"color: #00af00; text-decoration-color: #00af00\">1,036,405</span> (3.95 MB)\n",
       "</pre>\n"
      ],
      "text/plain": [
       "\u001b[1m Total params: \u001b[0m\u001b[38;5;34m1,036,405\u001b[0m (3.95 MB)\n"
      ]
     },
     "metadata": {},
     "output_type": "display_data"
    },
    {
     "data": {
      "text/html": [
       "<pre style=\"white-space:pre;overflow-x:auto;line-height:normal;font-family:Menlo,'DejaVu Sans Mono',consolas,'Courier New',monospace\"><span style=\"font-weight: bold\"> Trainable params: </span><span style=\"color: #00af00; text-decoration-color: #00af00\">1,036,405</span> (3.95 MB)\n",
       "</pre>\n"
      ],
      "text/plain": [
       "\u001b[1m Trainable params: \u001b[0m\u001b[38;5;34m1,036,405\u001b[0m (3.95 MB)\n"
      ]
     },
     "metadata": {},
     "output_type": "display_data"
    },
    {
     "data": {
      "text/html": [
       "<pre style=\"white-space:pre;overflow-x:auto;line-height:normal;font-family:Menlo,'DejaVu Sans Mono',consolas,'Courier New',monospace\"><span style=\"font-weight: bold\"> Non-trainable params: </span><span style=\"color: #00af00; text-decoration-color: #00af00\">0</span> (0.00 B)\n",
       "</pre>\n"
      ],
      "text/plain": [
       "\u001b[1m Non-trainable params: \u001b[0m\u001b[38;5;34m0\u001b[0m (0.00 B)\n"
      ]
     },
     "metadata": {},
     "output_type": "display_data"
    },
    {
     "name": "stdout",
     "output_type": "stream",
     "text": [
      "None\n"
     ]
    }
   ],
   "source": [
    "user = keras.layers.Input(shape = (1,))\n",
    "\n",
    "# Embedding layer for n_factors of users\n",
    "u = keras.layers.Embedding(n_users, n_factors, embeddings_initializer = 'he_normal', embeddings_regularizer = keras.regularizers.l2(1e-6))(user)\n",
    "u = keras.layers.Reshape((n_factors,))(u)\n",
    "\n",
    "# Input layer for the movies\n",
    "movie = keras.layers.Input(shape = (1,))\n",
    "\n",
    "# Embedding layer for n_factors of movies\n",
    "m = keras.layers.Embedding(n_movies, n_factors, embeddings_initializer = 'he_normal', embeddings_regularizer= keras.regularizers.l2(1e-6))(movie)\n",
    "m = keras.layers.Reshape((n_factors,))(m)\n",
    "\n",
    "# stacking up both user and movie embeddings\n",
    "x = keras.layers.Concatenate()([u,m])\n",
    "x = keras.layers.Dropout(0.005)(x)\n",
    "\n",
    "# Adding a Dense layer to the architecture\n",
    "x = keras.layers.Dense(16, kernel_initializer='he_normal', kernel_regularizer=keras.regularizers.l2(1e-6))(x)\n",
    "x = keras.layers.Activation(activation='relu')(x)\n",
    "x = keras.layers.Dropout(0.005)(x)\n",
    "\n",
    "x = keras.layers.Dense(16, kernel_initializer='he_normal')(x)\n",
    "x = keras.layers.Activation(activation='relu')(x)\n",
    "x = keras.layers.Dropout(0.005)(x)\n",
    "\n",
    "# Output layer \n",
    "x = keras.layers.Dense(1)(x)\n",
    "x = keras.layers.Activation(activation='linear')(x)\n",
    "\n",
    "# Define the model\n",
    "model = keras.models.Model(inputs=[user,movie], outputs=x)\n",
    "\n",
    "# Compiling the model\n",
    "model.compile(optimizer='adam', loss='mse', metrics=['mae'])\n",
    "\n",
    "print(model.summary())"
   ]
  },
  {
   "cell_type": "code",
   "execution_count": 203,
   "id": "f126b001",
   "metadata": {},
   "outputs": [
    {
     "name": "stdout",
     "output_type": "stream",
     "text": [
      "Epoch 1/70\n",
      "\u001b[1m722/722\u001b[0m \u001b[32m━━━━━━━━━━━━━━━━━━━━\u001b[0m\u001b[37m\u001b[0m \u001b[1m10s\u001b[0m 12ms/step - loss: 3.4194 - mae: 1.3709 - val_loss: 3.9588 - val_mae: 1.8150 - learning_rate: 0.0010\n",
      "Epoch 2/70\n",
      "\u001b[1m722/722\u001b[0m \u001b[32m━━━━━━━━━━━━━━━━━━━━\u001b[0m\u001b[37m\u001b[0m \u001b[1m8s\u001b[0m 11ms/step - loss: 0.7385 - mae: 0.6604 - val_loss: 2.5905 - val_mae: 1.4227 - learning_rate: 0.0010\n",
      "Epoch 3/70\n",
      "\u001b[1m722/722\u001b[0m \u001b[32m━━━━━━━━━━━━━━━━━━━━\u001b[0m\u001b[37m\u001b[0m \u001b[1m9s\u001b[0m 12ms/step - loss: 0.6669 - mae: 0.6218 - val_loss: 1.9513 - val_mae: 1.2041 - learning_rate: 0.0010\n",
      "Epoch 4/70\n",
      "\u001b[1m722/722\u001b[0m \u001b[32m━━━━━━━━━━━━━━━━━━━━\u001b[0m\u001b[37m\u001b[0m \u001b[1m8s\u001b[0m 11ms/step - loss: 0.6164 - mae: 0.5939 - val_loss: 1.5403 - val_mae: 1.0438 - learning_rate: 0.0010\n",
      "Epoch 5/70\n",
      "\u001b[1m722/722\u001b[0m \u001b[32m━━━━━━━━━━━━━━━━━━━━\u001b[0m\u001b[37m\u001b[0m \u001b[1m8s\u001b[0m 11ms/step - loss: 0.5633 - mae: 0.5651 - val_loss: 1.4051 - val_mae: 0.9844 - learning_rate: 0.0010\n",
      "Epoch 6/70\n",
      "\u001b[1m722/722\u001b[0m \u001b[32m━━━━━━━━━━━━━━━━━━━━\u001b[0m\u001b[37m\u001b[0m \u001b[1m9s\u001b[0m 12ms/step - loss: 0.5324 - mae: 0.5483 - val_loss: 1.2745 - val_mae: 0.9266 - learning_rate: 0.0010\n",
      "Epoch 7/70\n",
      "\u001b[1m722/722\u001b[0m \u001b[32m━━━━━━━━━━━━━━━━━━━━\u001b[0m\u001b[37m\u001b[0m \u001b[1m9s\u001b[0m 12ms/step - loss: 0.5002 - mae: 0.5288 - val_loss: 1.3438 - val_mae: 0.9545 - learning_rate: 0.0010\n",
      "Epoch 8/70\n",
      "\u001b[1m722/722\u001b[0m \u001b[32m━━━━━━━━━━━━━━━━━━━━\u001b[0m\u001b[37m\u001b[0m \u001b[1m9s\u001b[0m 12ms/step - loss: 0.4660 - mae: 0.5070 - val_loss: 1.1936 - val_mae: 0.8888 - learning_rate: 0.0010\n",
      "Epoch 9/70\n",
      "\u001b[1m722/722\u001b[0m \u001b[32m━━━━━━━━━━━━━━━━━━━━\u001b[0m\u001b[37m\u001b[0m \u001b[1m8s\u001b[0m 12ms/step - loss: 0.4443 - mae: 0.4952 - val_loss: 1.2056 - val_mae: 0.8916 - learning_rate: 0.0010\n",
      "Epoch 10/70\n",
      "\u001b[1m722/722\u001b[0m \u001b[32m━━━━━━━━━━━━━━━━━━━━\u001b[0m\u001b[37m\u001b[0m \u001b[1m9s\u001b[0m 12ms/step - loss: 0.4233 - mae: 0.4824 - val_loss: 1.2160 - val_mae: 0.8987 - learning_rate: 0.0010\n",
      "Epoch 11/70\n",
      "\u001b[1m720/722\u001b[0m \u001b[32m━━━━━━━━━━━━━━━━━━━\u001b[0m\u001b[37m━\u001b[0m \u001b[1m0s\u001b[0m 12ms/step - loss: 0.4029 - mae: 0.4680\n",
      "Epoch 11: ReduceLROnPlateau reducing learning rate to 0.0007500000356230885.\n",
      "\u001b[1m722/722\u001b[0m \u001b[32m━━━━━━━━━━━━━━━━━━━━\u001b[0m\u001b[37m\u001b[0m \u001b[1m9s\u001b[0m 12ms/step - loss: 0.4030 - mae: 0.4680 - val_loss: 1.2020 - val_mae: 0.8934 - learning_rate: 0.0010\n",
      "Epoch 12/70\n",
      "\u001b[1m722/722\u001b[0m \u001b[32m━━━━━━━━━━━━━━━━━━━━\u001b[0m\u001b[37m\u001b[0m \u001b[1m9s\u001b[0m 12ms/step - loss: 0.3776 - mae: 0.4544 - val_loss: 1.2216 - val_mae: 0.8983 - learning_rate: 7.5000e-04\n",
      "Epoch 13/70\n",
      "\u001b[1m722/722\u001b[0m \u001b[32m━━━━━━━━━━━━━━━━━━━━\u001b[0m\u001b[37m\u001b[0m \u001b[1m9s\u001b[0m 12ms/step - loss: 0.3552 - mae: 0.4328 - val_loss: 1.2221 - val_mae: 0.8973 - learning_rate: 7.5000e-04\n",
      "Epoch 14/70\n",
      "\u001b[1m721/722\u001b[0m \u001b[32m━━━━━━━━━━━━━━━━━━━\u001b[0m\u001b[37m━\u001b[0m \u001b[1m0s\u001b[0m 11ms/step - loss: 0.3462 - mae: 0.4279\n",
      "Epoch 14: ReduceLROnPlateau reducing learning rate to 0.0005625000048894435.\n",
      "\u001b[1m722/722\u001b[0m \u001b[32m━━━━━━━━━━━━━━━━━━━━\u001b[0m\u001b[37m\u001b[0m \u001b[1m9s\u001b[0m 12ms/step - loss: 0.3463 - mae: 0.4279 - val_loss: 1.2215 - val_mae: 0.8995 - learning_rate: 7.5000e-04\n",
      "Epoch 15/70\n",
      "\u001b[1m722/722\u001b[0m \u001b[32m━━━━━━━━━━━━━━━━━━━━\u001b[0m\u001b[37m\u001b[0m \u001b[1m9s\u001b[0m 13ms/step - loss: 0.3320 - mae: 0.4184 - val_loss: 1.2301 - val_mae: 0.9008 - learning_rate: 5.6250e-04\n",
      "Epoch 16/70\n",
      "\u001b[1m722/722\u001b[0m \u001b[32m━━━━━━━━━━━━━━━━━━━━\u001b[0m\u001b[37m\u001b[0m \u001b[1m9s\u001b[0m 12ms/step - loss: 0.3187 - mae: 0.4060 - val_loss: 1.2147 - val_mae: 0.8924 - learning_rate: 5.6250e-04\n",
      "Epoch 17/70\n",
      "\u001b[1m720/722\u001b[0m \u001b[32m━━━━━━━━━━━━━━━━━━━\u001b[0m\u001b[37m━\u001b[0m \u001b[1m0s\u001b[0m 11ms/step - loss: 0.3117 - mae: 0.4013\n",
      "Epoch 17: ReduceLROnPlateau reducing learning rate to 0.0004218749818392098.\n",
      "\u001b[1m722/722\u001b[0m \u001b[32m━━━━━━━━━━━━━━━━━━━━\u001b[0m\u001b[37m\u001b[0m \u001b[1m8s\u001b[0m 12ms/step - loss: 0.3118 - mae: 0.4013 - val_loss: 1.2415 - val_mae: 0.9047 - learning_rate: 5.6250e-04\n",
      "Epoch 18/70\n",
      "\u001b[1m722/722\u001b[0m \u001b[32m━━━━━━━━━━━━━━━━━━━━\u001b[0m\u001b[37m\u001b[0m \u001b[1m9s\u001b[0m 12ms/step - loss: 0.3028 - mae: 0.3936 - val_loss: 1.3007 - val_mae: 0.9308 - learning_rate: 4.2187e-04\n",
      "Epoch 19/70\n",
      "\u001b[1m722/722\u001b[0m \u001b[32m━━━━━━━━━━━━━━━━━━━━\u001b[0m\u001b[37m\u001b[0m \u001b[1m9s\u001b[0m 12ms/step - loss: 0.2962 - mae: 0.3866 - val_loss: 1.3077 - val_mae: 0.9326 - learning_rate: 4.2187e-04\n",
      "Epoch 20/70\n",
      "\u001b[1m721/722\u001b[0m \u001b[32m━━━━━━━━━━━━━━━━━━━\u001b[0m\u001b[37m━\u001b[0m \u001b[1m0s\u001b[0m 12ms/step - loss: 0.2912 - mae: 0.3831\n",
      "Epoch 20: ReduceLROnPlateau reducing learning rate to 0.00031640623637940735.\n",
      "\u001b[1m722/722\u001b[0m \u001b[32m━━━━━━━━━━━━━━━━━━━━\u001b[0m\u001b[37m\u001b[0m \u001b[1m9s\u001b[0m 12ms/step - loss: 0.2912 - mae: 0.3832 - val_loss: 1.2610 - val_mae: 0.9111 - learning_rate: 4.2187e-04\n",
      "Epoch 21/70\n",
      "\u001b[1m722/722\u001b[0m \u001b[32m━━━━━━━━━━━━━━━━━━━━\u001b[0m\u001b[37m\u001b[0m \u001b[1m8s\u001b[0m 11ms/step - loss: 0.2821 - mae: 0.3761 - val_loss: 1.3033 - val_mae: 0.9284 - learning_rate: 3.1641e-04\n",
      "Epoch 22/70\n",
      "\u001b[1m722/722\u001b[0m \u001b[32m━━━━━━━━━━━━━━━━━━━━\u001b[0m\u001b[37m\u001b[0m \u001b[1m8s\u001b[0m 12ms/step - loss: 0.2748 - mae: 0.3685 - val_loss: 1.2880 - val_mae: 0.9234 - learning_rate: 3.1641e-04\n",
      "Epoch 23/70\n",
      "\u001b[1m722/722\u001b[0m \u001b[32m━━━━━━━━━━━━━━━━━━━━\u001b[0m\u001b[37m\u001b[0m \u001b[1m0s\u001b[0m 12ms/step - loss: 0.2707 - mae: 0.3667\n",
      "Epoch 23: ReduceLROnPlateau reducing learning rate to 0.00023730468819849193.\n",
      "\u001b[1m722/722\u001b[0m \u001b[32m━━━━━━━━━━━━━━━━━━━━\u001b[0m\u001b[37m\u001b[0m \u001b[1m9s\u001b[0m 12ms/step - loss: 0.2708 - mae: 0.3667 - val_loss: 1.3372 - val_mae: 0.9457 - learning_rate: 3.1641e-04\n",
      "Epoch 24/70\n",
      "\u001b[1m722/722\u001b[0m \u001b[32m━━━━━━━━━━━━━━━━━━━━\u001b[0m\u001b[37m\u001b[0m \u001b[1m8s\u001b[0m 12ms/step - loss: 0.2693 - mae: 0.3641 - val_loss: 1.3171 - val_mae: 0.9349 - learning_rate: 2.3730e-04\n",
      "Epoch 25/70\n",
      "\u001b[1m722/722\u001b[0m \u001b[32m━━━━━━━━━━━━━━━━━━━━\u001b[0m\u001b[37m\u001b[0m \u001b[1m8s\u001b[0m 12ms/step - loss: 0.2638 - mae: 0.3592 - val_loss: 1.2996 - val_mae: 0.9271 - learning_rate: 2.3730e-04\n",
      "Epoch 26/70\n",
      "\u001b[1m722/722\u001b[0m \u001b[32m━━━━━━━━━━━━━━━━━━━━\u001b[0m\u001b[37m\u001b[0m \u001b[1m0s\u001b[0m 11ms/step - loss: 0.2636 - mae: 0.3589\n",
      "Epoch 26: ReduceLROnPlateau reducing learning rate to 0.00017797851614886895.\n",
      "\u001b[1m722/722\u001b[0m \u001b[32m━━━━━━━━━━━━━━━━━━━━\u001b[0m\u001b[37m\u001b[0m \u001b[1m8s\u001b[0m 11ms/step - loss: 0.2636 - mae: 0.3589 - val_loss: 1.3451 - val_mae: 0.9471 - learning_rate: 2.3730e-04\n",
      "Epoch 27/70\n",
      "\u001b[1m722/722\u001b[0m \u001b[32m━━━━━━━━━━━━━━━━━━━━\u001b[0m\u001b[37m\u001b[0m \u001b[1m9s\u001b[0m 12ms/step - loss: 0.2559 - mae: 0.3522 - val_loss: 1.3435 - val_mae: 0.9455 - learning_rate: 1.7798e-04\n",
      "Epoch 28/70\n",
      "\u001b[1m722/722\u001b[0m \u001b[32m━━━━━━━━━━━━━━━━━━━━\u001b[0m\u001b[37m\u001b[0m \u001b[1m9s\u001b[0m 12ms/step - loss: 0.2581 - mae: 0.3534 - val_loss: 1.3146 - val_mae: 0.9337 - learning_rate: 1.7798e-04\n",
      "Epoch 29/70\n",
      "\u001b[1m719/722\u001b[0m \u001b[32m━━━━━━━━━━━━━━━━━━━\u001b[0m\u001b[37m━\u001b[0m \u001b[1m0s\u001b[0m 11ms/step - loss: 0.2542 - mae: 0.3496\n",
      "Epoch 29: ReduceLROnPlateau reducing learning rate to 0.0001334838816546835.\n",
      "\u001b[1m722/722\u001b[0m \u001b[32m━━━━━━━━━━━━━━━━━━━━\u001b[0m\u001b[37m\u001b[0m \u001b[1m8s\u001b[0m 12ms/step - loss: 0.2542 - mae: 0.3497 - val_loss: 1.3315 - val_mae: 0.9397 - learning_rate: 1.7798e-04\n",
      "Epoch 30/70\n",
      "\u001b[1m722/722\u001b[0m \u001b[32m━━━━━━━━━━━━━━━━━━━━\u001b[0m\u001b[37m\u001b[0m \u001b[1m8s\u001b[0m 12ms/step - loss: 0.2510 - mae: 0.3464 - val_loss: 1.3530 - val_mae: 0.9491 - learning_rate: 1.3348e-04\n",
      "Epoch 31/70\n",
      "\u001b[1m722/722\u001b[0m \u001b[32m━━━━━━━━━━━━━━━━━━━━\u001b[0m\u001b[37m\u001b[0m \u001b[1m8s\u001b[0m 12ms/step - loss: 0.2524 - mae: 0.3464 - val_loss: 1.3513 - val_mae: 0.9486 - learning_rate: 1.3348e-04\n",
      "Epoch 32/70\n",
      "\u001b[1m719/722\u001b[0m \u001b[32m━━━━━━━━━━━━━━━━━━━\u001b[0m\u001b[37m━\u001b[0m \u001b[1m0s\u001b[0m 11ms/step - loss: 0.2483 - mae: 0.3439\n",
      "Epoch 32: ReduceLROnPlateau reducing learning rate to 0.00010011290578404441.\n",
      "\u001b[1m722/722\u001b[0m \u001b[32m━━━━━━━━━━━━━━━━━━━━\u001b[0m\u001b[37m\u001b[0m \u001b[1m8s\u001b[0m 11ms/step - loss: 0.2484 - mae: 0.3439 - val_loss: 1.3500 - val_mae: 0.9485 - learning_rate: 1.3348e-04\n",
      "Epoch 33/70\n",
      "\u001b[1m722/722\u001b[0m \u001b[32m━━━━━━━━━━━━━━━━━━━━\u001b[0m\u001b[37m\u001b[0m \u001b[1m8s\u001b[0m 11ms/step - loss: 0.2477 - mae: 0.3427 - val_loss: 1.3252 - val_mae: 0.9372 - learning_rate: 1.0011e-04\n",
      "Epoch 34/70\n",
      "\u001b[1m722/722\u001b[0m \u001b[32m━━━━━━━━━━━━━━━━━━━━\u001b[0m\u001b[37m\u001b[0m \u001b[1m9s\u001b[0m 12ms/step - loss: 0.2472 - mae: 0.3414 - val_loss: 1.3589 - val_mae: 0.9522 - learning_rate: 1.0011e-04\n",
      "Epoch 35/70\n",
      "\u001b[1m721/722\u001b[0m \u001b[32m━━━━━━━━━━━━━━━━━━━\u001b[0m\u001b[37m━\u001b[0m \u001b[1m0s\u001b[0m 11ms/step - loss: 0.2458 - mae: 0.3395\n",
      "Epoch 35: ReduceLROnPlateau reducing learning rate to 7.508467933803331e-05.\n",
      "\u001b[1m722/722\u001b[0m \u001b[32m━━━━━━━━━━━━━━━━━━━━\u001b[0m\u001b[37m\u001b[0m \u001b[1m8s\u001b[0m 12ms/step - loss: 0.2458 - mae: 0.3395 - val_loss: 1.3568 - val_mae: 0.9508 - learning_rate: 1.0011e-04\n",
      "Epoch 36/70\n",
      "\u001b[1m722/722\u001b[0m \u001b[32m━━━━━━━━━━━━━━━━━━━━\u001b[0m\u001b[37m\u001b[0m \u001b[1m8s\u001b[0m 12ms/step - loss: 0.2443 - mae: 0.3391 - val_loss: 1.3473 - val_mae: 0.9463 - learning_rate: 7.5085e-05\n",
      "Epoch 37/70\n",
      "\u001b[1m722/722\u001b[0m \u001b[32m━━━━━━━━━━━━━━━━━━━━\u001b[0m\u001b[37m\u001b[0m \u001b[1m8s\u001b[0m 12ms/step - loss: 0.2453 - mae: 0.3380 - val_loss: 1.3486 - val_mae: 0.9473 - learning_rate: 7.5085e-05\n",
      "Epoch 38/70\n",
      "\u001b[1m720/722\u001b[0m \u001b[32m━━━━━━━━━━━━━━━━━━━\u001b[0m\u001b[37m━\u001b[0m \u001b[1m0s\u001b[0m 11ms/step - loss: 0.2442 - mae: 0.3370\n",
      "Epoch 38: ReduceLROnPlateau reducing learning rate to 5.6313510867767036e-05.\n",
      "\u001b[1m722/722\u001b[0m \u001b[32m━━━━━━━━━━━━━━━━━━━━\u001b[0m\u001b[37m\u001b[0m \u001b[1m9s\u001b[0m 12ms/step - loss: 0.2442 - mae: 0.3370 - val_loss: 1.3655 - val_mae: 0.9546 - learning_rate: 7.5085e-05\n",
      "Epoch 39/70\n",
      "\u001b[1m722/722\u001b[0m \u001b[32m━━━━━━━━━━━━━━━━━━━━\u001b[0m\u001b[37m\u001b[0m \u001b[1m8s\u001b[0m 12ms/step - loss: 0.2422 - mae: 0.3364 - val_loss: 1.3637 - val_mae: 0.9538 - learning_rate: 5.6314e-05\n",
      "Epoch 40/70\n",
      "\u001b[1m722/722\u001b[0m \u001b[32m━━━━━━━━━━━━━━━━━━━━\u001b[0m\u001b[37m\u001b[0m \u001b[1m8s\u001b[0m 12ms/step - loss: 0.2414 - mae: 0.3348 - val_loss: 1.3536 - val_mae: 0.9493 - learning_rate: 5.6314e-05\n",
      "Epoch 41/70\n",
      "\u001b[1m719/722\u001b[0m \u001b[32m━━━━━━━━━━━━━━━━━━━\u001b[0m\u001b[37m━\u001b[0m \u001b[1m0s\u001b[0m 11ms/step - loss: 0.2422 - mae: 0.3357\n",
      "Epoch 41: ReduceLROnPlateau reducing learning rate to 4.223513315082528e-05.\n",
      "\u001b[1m722/722\u001b[0m \u001b[32m━━━━━━━━━━━━━━━━━━━━\u001b[0m\u001b[37m\u001b[0m \u001b[1m8s\u001b[0m 11ms/step - loss: 0.2422 - mae: 0.3357 - val_loss: 1.3609 - val_mae: 0.9525 - learning_rate: 5.6314e-05\n",
      "Epoch 42/70\n",
      "\u001b[1m722/722\u001b[0m \u001b[32m━━━━━━━━━━━━━━━━━━━━\u001b[0m\u001b[37m\u001b[0m \u001b[1m9s\u001b[0m 12ms/step - loss: 0.2378 - mae: 0.3324 - val_loss: 1.3656 - val_mae: 0.9545 - learning_rate: 4.2235e-05\n",
      "Epoch 43/70\n",
      "\u001b[1m722/722\u001b[0m \u001b[32m━━━━━━━━━━━━━━━━━━━━\u001b[0m\u001b[37m\u001b[0m \u001b[1m8s\u001b[0m 12ms/step - loss: 0.2421 - mae: 0.3349 - val_loss: 1.3644 - val_mae: 0.9542 - learning_rate: 4.2235e-05\n",
      "Epoch 44/70\n",
      "\u001b[1m717/722\u001b[0m \u001b[32m━━━━━━━━━━━━━━━━━━━\u001b[0m\u001b[37m━\u001b[0m \u001b[1m0s\u001b[0m 11ms/step - loss: 0.2435 - mae: 0.3356\n",
      "Epoch 44: ReduceLROnPlateau reducing learning rate to 3.167634986311896e-05.\n",
      "\u001b[1m722/722\u001b[0m \u001b[32m━━━━━━━━━━━━━━━━━━━━\u001b[0m\u001b[37m\u001b[0m \u001b[1m8s\u001b[0m 12ms/step - loss: 0.2435 - mae: 0.3356 - val_loss: 1.3681 - val_mae: 0.9556 - learning_rate: 4.2235e-05\n",
      "Epoch 45/70\n",
      "\u001b[1m722/722\u001b[0m \u001b[32m━━━━━━━━━━━━━━━━━━━━\u001b[0m\u001b[37m\u001b[0m \u001b[1m8s\u001b[0m 12ms/step - loss: 0.2405 - mae: 0.3337 - val_loss: 1.3666 - val_mae: 0.9549 - learning_rate: 3.1676e-05\n",
      "Epoch 46/70\n",
      "\u001b[1m722/722\u001b[0m \u001b[32m━━━━━━━━━━━━━━━━━━━━\u001b[0m\u001b[37m\u001b[0m \u001b[1m9s\u001b[0m 12ms/step - loss: 0.2413 - mae: 0.3343 - val_loss: 1.3705 - val_mae: 0.9567 - learning_rate: 3.1676e-05\n",
      "Epoch 47/70\n",
      "\u001b[1m718/722\u001b[0m \u001b[32m━━━━━━━━━━━━━━━━━━━\u001b[0m\u001b[37m━\u001b[0m \u001b[1m0s\u001b[0m 11ms/step - loss: 0.2391 - mae: 0.3314\n",
      "Epoch 47: ReduceLROnPlateau reducing learning rate to 2.3757263079460245e-05.\n",
      "\u001b[1m722/722\u001b[0m \u001b[32m━━━━━━━━━━━━━━━━━━━━\u001b[0m\u001b[37m\u001b[0m \u001b[1m8s\u001b[0m 11ms/step - loss: 0.2391 - mae: 0.3315 - val_loss: 1.3701 - val_mae: 0.9566 - learning_rate: 3.1676e-05\n",
      "Epoch 48/70\n",
      "\u001b[1m722/722\u001b[0m \u001b[32m━━━━━━━━━━━━━━━━━━━━\u001b[0m\u001b[37m\u001b[0m \u001b[1m9s\u001b[0m 12ms/step - loss: 0.2387 - mae: 0.3319 - val_loss: 1.3640 - val_mae: 0.9539 - learning_rate: 2.3757e-05\n",
      "Epoch 49/70\n",
      "\u001b[1m722/722\u001b[0m \u001b[32m━━━━━━━━━━━━━━━━━━━━\u001b[0m\u001b[37m\u001b[0m \u001b[1m9s\u001b[0m 12ms/step - loss: 0.2398 - mae: 0.3322 - val_loss: 1.3671 - val_mae: 0.9554 - learning_rate: 2.3757e-05\n",
      "Epoch 50/70\n",
      "\u001b[1m718/722\u001b[0m \u001b[32m━━━━━━━━━━━━━━━━━━━\u001b[0m\u001b[37m━\u001b[0m \u001b[1m0s\u001b[0m 11ms/step - loss: 0.2394 - mae: 0.3316\n",
      "Epoch 50: ReduceLROnPlateau reducing learning rate to 1.781794799171621e-05.\n",
      "\u001b[1m722/722\u001b[0m \u001b[32m━━━━━━━━━━━━━━━━━━━━\u001b[0m\u001b[37m\u001b[0m \u001b[1m8s\u001b[0m 12ms/step - loss: 0.2394 - mae: 0.3316 - val_loss: 1.3798 - val_mae: 0.9608 - learning_rate: 2.3757e-05\n",
      "Epoch 51/70\n",
      "\u001b[1m722/722\u001b[0m \u001b[32m━━━━━━━━━━━━━━━━━━━━\u001b[0m\u001b[37m\u001b[0m \u001b[1m8s\u001b[0m 12ms/step - loss: 0.2399 - mae: 0.3321 - val_loss: 1.3768 - val_mae: 0.9592 - learning_rate: 1.7818e-05\n",
      "Epoch 52/70\n",
      "\u001b[1m722/722\u001b[0m \u001b[32m━━━━━━━━━━━━━━━━━━━━\u001b[0m\u001b[37m\u001b[0m \u001b[1m9s\u001b[0m 12ms/step - loss: 0.2390 - mae: 0.3307 - val_loss: 1.3792 - val_mae: 0.9604 - learning_rate: 1.7818e-05\n",
      "Epoch 53/70\n",
      "\u001b[1m719/722\u001b[0m \u001b[32m━━━━━━━━━━━━━━━━━━━\u001b[0m\u001b[37m━\u001b[0m \u001b[1m0s\u001b[0m 11ms/step - loss: 0.2401 - mae: 0.3315\n",
      "Epoch 53: ReduceLROnPlateau reducing learning rate to 1.3363460311666131e-05.\n",
      "\u001b[1m722/722\u001b[0m \u001b[32m━━━━━━━━━━━━━━━━━━━━\u001b[0m\u001b[37m\u001b[0m \u001b[1m8s\u001b[0m 12ms/step - loss: 0.2401 - mae: 0.3315 - val_loss: 1.3718 - val_mae: 0.9572 - learning_rate: 1.7818e-05\n",
      "Epoch 54/70\n",
      "\u001b[1m722/722\u001b[0m \u001b[32m━━━━━━━━━━━━━━━━━━━━\u001b[0m\u001b[37m\u001b[0m \u001b[1m8s\u001b[0m 12ms/step - loss: 0.2405 - mae: 0.3316 - val_loss: 1.3719 - val_mae: 0.9572 - learning_rate: 1.3363e-05\n",
      "Epoch 55/70\n",
      "\u001b[1m722/722\u001b[0m \u001b[32m━━━━━━━━━━━━━━━━━━━━\u001b[0m\u001b[37m\u001b[0m \u001b[1m9s\u001b[0m 12ms/step - loss: 0.2396 - mae: 0.3305 - val_loss: 1.3737 - val_mae: 0.9579 - learning_rate: 1.3363e-05\n",
      "Epoch 56/70\n",
      "\u001b[1m722/722\u001b[0m \u001b[32m━━━━━━━━━━━━━━━━━━━━\u001b[0m\u001b[37m\u001b[0m \u001b[1m0s\u001b[0m 12ms/step - loss: 0.2395 - mae: 0.3304\n",
      "Epoch 56: ReduceLROnPlateau reducing learning rate to 1.0022595233749598e-05.\n",
      "\u001b[1m722/722\u001b[0m \u001b[32m━━━━━━━━━━━━━━━━━━━━\u001b[0m\u001b[37m\u001b[0m \u001b[1m9s\u001b[0m 12ms/step - loss: 0.2395 - mae: 0.3304 - val_loss: 1.3759 - val_mae: 0.9591 - learning_rate: 1.3363e-05\n",
      "Epoch 57/70\n",
      "\u001b[1m722/722\u001b[0m \u001b[32m━━━━━━━━━━━━━━━━━━━━\u001b[0m\u001b[37m\u001b[0m \u001b[1m9s\u001b[0m 12ms/step - loss: 0.2366 - mae: 0.3296 - val_loss: 1.3714 - val_mae: 0.9571 - learning_rate: 1.0023e-05\n",
      "Epoch 58/70\n",
      "\u001b[1m722/722\u001b[0m \u001b[32m━━━━━━━━━━━━━━━━━━━━\u001b[0m\u001b[37m\u001b[0m \u001b[1m9s\u001b[0m 12ms/step - loss: 0.2363 - mae: 0.3290 - val_loss: 1.3752 - val_mae: 0.9586 - learning_rate: 1.0023e-05\n",
      "Epoch 59/70\n",
      "\u001b[1m722/722\u001b[0m \u001b[32m━━━━━━━━━━━━━━━━━━━━\u001b[0m\u001b[37m\u001b[0m \u001b[1m0s\u001b[0m 12ms/step - loss: 0.2371 - mae: 0.3291\n",
      "Epoch 59: ReduceLROnPlateau reducing learning rate to 7.516946425312199e-06.\n",
      "\u001b[1m722/722\u001b[0m \u001b[32m━━━━━━━━━━━━━━━━━━━━\u001b[0m\u001b[37m\u001b[0m \u001b[1m9s\u001b[0m 13ms/step - loss: 0.2371 - mae: 0.3291 - val_loss: 1.3729 - val_mae: 0.9576 - learning_rate: 1.0023e-05\n",
      "Epoch 60/70\n",
      "\u001b[1m722/722\u001b[0m \u001b[32m━━━━━━━━━━━━━━━━━━━━\u001b[0m\u001b[37m\u001b[0m \u001b[1m9s\u001b[0m 13ms/step - loss: 0.2367 - mae: 0.3300 - val_loss: 1.3748 - val_mae: 0.9584 - learning_rate: 7.5169e-06\n",
      "Epoch 61/70\n",
      "\u001b[1m722/722\u001b[0m \u001b[32m━━━━━━━━━━━━━━━━━━━━\u001b[0m\u001b[37m\u001b[0m \u001b[1m9s\u001b[0m 12ms/step - loss: 0.2383 - mae: 0.3302 - val_loss: 1.3723 - val_mae: 0.9572 - learning_rate: 7.5169e-06\n",
      "Epoch 62/70\n",
      "\u001b[1m722/722\u001b[0m \u001b[32m━━━━━━━━━━━━━━━━━━━━\u001b[0m\u001b[37m\u001b[0m \u001b[1m0s\u001b[0m 11ms/step - loss: 0.2371 - mae: 0.3299\n",
      "Epoch 62: ReduceLROnPlateau reducing learning rate to 5.637709818984149e-06.\n",
      "\u001b[1m722/722\u001b[0m \u001b[32m━━━━━━━━━━━━━━━━━━━━\u001b[0m\u001b[37m\u001b[0m \u001b[1m9s\u001b[0m 12ms/step - loss: 0.2371 - mae: 0.3299 - val_loss: 1.3760 - val_mae: 0.9589 - learning_rate: 7.5169e-06\n",
      "Epoch 63/70\n",
      "\u001b[1m722/722\u001b[0m \u001b[32m━━━━━━━━━━━━━━━━━━━━\u001b[0m\u001b[37m\u001b[0m \u001b[1m9s\u001b[0m 12ms/step - loss: 0.2349 - mae: 0.3279 - val_loss: 1.3728 - val_mae: 0.9575 - learning_rate: 5.6377e-06\n",
      "Epoch 64/70\n",
      "\u001b[1m722/722\u001b[0m \u001b[32m━━━━━━━━━━━━━━━━━━━━\u001b[0m\u001b[37m\u001b[0m \u001b[1m10s\u001b[0m 13ms/step - loss: 0.2383 - mae: 0.3307 - val_loss: 1.3739 - val_mae: 0.9580 - learning_rate: 5.6377e-06\n",
      "Epoch 65/70\n",
      "\u001b[1m719/722\u001b[0m \u001b[32m━━━━━━━━━━━━━━━━━━━\u001b[0m\u001b[37m━\u001b[0m \u001b[1m0s\u001b[0m 13ms/step - loss: 0.2351 - mae: 0.3277\n",
      "Epoch 65: ReduceLROnPlateau reducing learning rate to 4.228282364238112e-06.\n",
      "\u001b[1m722/722\u001b[0m \u001b[32m━━━━━━━━━━━━━━━━━━━━\u001b[0m\u001b[37m\u001b[0m \u001b[1m9s\u001b[0m 13ms/step - loss: 0.2351 - mae: 0.3277 - val_loss: 1.3769 - val_mae: 0.9593 - learning_rate: 5.6377e-06\n",
      "Epoch 66/70\n",
      "\u001b[1m722/722\u001b[0m \u001b[32m━━━━━━━━━━━━━━━━━━━━\u001b[0m\u001b[37m\u001b[0m \u001b[1m9s\u001b[0m 12ms/step - loss: 0.2380 - mae: 0.3286 - val_loss: 1.3768 - val_mae: 0.9592 - learning_rate: 4.2283e-06\n",
      "Epoch 67/70\n",
      "\u001b[1m722/722\u001b[0m \u001b[32m━━━━━━━━━━━━━━━━━━━━\u001b[0m\u001b[37m\u001b[0m \u001b[1m9s\u001b[0m 12ms/step - loss: 0.2390 - mae: 0.3297 - val_loss: 1.3774 - val_mae: 0.9595 - learning_rate: 4.2283e-06\n",
      "Epoch 68/70\n",
      "\u001b[1m718/722\u001b[0m \u001b[32m━━━━━━━━━━━━━━━━━━━\u001b[0m\u001b[37m━\u001b[0m \u001b[1m0s\u001b[0m 11ms/step - loss: 0.2344 - mae: 0.3271\n",
      "Epoch 68: ReduceLROnPlateau reducing learning rate to 3.1712116879134555e-06.\n",
      "\u001b[1m722/722\u001b[0m \u001b[32m━━━━━━━━━━━━━━━━━━━━\u001b[0m\u001b[37m\u001b[0m \u001b[1m8s\u001b[0m 12ms/step - loss: 0.2345 - mae: 0.3271 - val_loss: 1.3752 - val_mae: 0.9585 - learning_rate: 4.2283e-06\n",
      "Epoch 69/70\n",
      "\u001b[1m722/722\u001b[0m \u001b[32m━━━━━━━━━━━━━━━━━━━━\u001b[0m\u001b[37m\u001b[0m \u001b[1m8s\u001b[0m 12ms/step - loss: 0.2318 - mae: 0.3261 - val_loss: 1.3746 - val_mae: 0.9582 - learning_rate: 3.1712e-06\n",
      "Epoch 70/70\n",
      "\u001b[1m722/722\u001b[0m \u001b[32m━━━━━━━━━━━━━━━━━━━━\u001b[0m\u001b[37m\u001b[0m \u001b[1m9s\u001b[0m 13ms/step - loss: 0.2350 - mae: 0.3266 - val_loss: 1.3746 - val_mae: 0.9582 - learning_rate: 3.1712e-06\n"
     ]
    }
   ],
   "source": [
    "\n",
    "reduce_lr = keras.callbacks.ReduceLROnPlateau(monitor='val_loss', factor=0.75, patience=3, min_lr=0.000001, verbose=1)\n",
    "\n",
    "history = model.fit(x = X_train_array,\n",
    "                    y = y_train,\n",
    "                    batch_size=128,\n",
    "                    epochs=70,\n",
    "                    validation_data=(X_test_array, y_test),\n",
    "                    shuffle=True,\n",
    "                    callbacks=[reduce_lr])"
   ]
  },
  {
   "cell_type": "markdown",
   "id": "b0d51e15",
   "metadata": {},
   "source": [
    "Save the model so we don't have to train the model each time"
   ]
  },
  {
   "cell_type": "code",
   "execution_count": 206,
   "id": "f5d9a09d",
   "metadata": {},
   "outputs": [],
   "source": [
    "model.save(\"data/movie_recommendation_model.keras\")"
   ]
  },
  {
   "cell_type": "code",
   "execution_count": 205,
   "id": "66f2e4ac",
   "metadata": {},
   "outputs": [
    {
     "data": {
      "image/png": "[encoded data removed]",
      "text/plain": [
       "<Figure size 640x480 with 1 Axes>"
      ]
     },
     "metadata": {},
     "output_type": "display_data"
    }
   ],
   "source": [
    "plt.plot(history.history[\"loss\"])\n",
    "plt.plot(history.history[\"val_loss\"])\n",
    "plt.title(\"model loss\")\n",
    "plt.ylabel(\"loss\")\n",
    "plt.xlabel(\"epoch\")\n",
    "plt.legend([\"train\", \"test\"], loc=\"upper left\")\n",
    "plt.show()"
   ]
  }
 ],
 "metadata": {
  "kernelspec": {
   "display_name": "venv",
   "language": "python",
   "name": "python3"
  },
  "language_info": {
   "codemirror_mode": {
    "name": "ipython",
    "version": 3
   },
   "file_extension": ".py",
   "mimetype": "text/x-python",
   "name": "python",
   "nbconvert_exporter": "python",
   "pygments_lexer": "ipython3",
   "version": "3.11.5"
  }
 },
 "nbformat": 4,
 "nbformat_minor": 5
}
